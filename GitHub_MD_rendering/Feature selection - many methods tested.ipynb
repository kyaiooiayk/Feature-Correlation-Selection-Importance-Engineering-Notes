{
 "cells": [
  {
   "cell_type": "code",
   "execution_count": null,
   "metadata": {},
   "outputs": [],
   "source": [
    "\"\"\" \n",
    "What? Feature selection.\n",
    "\n",
    "Feature selection is a process where you automatically select \n",
    "those features in your data that contribute most to the prediction \n",
    "variable or output in which you are interested. Having irrelevant \n",
    "features in your data can decrease the accuracy of many models,\n",
    "especially linear algorithms like linear and logistic regression. \n",
    "\n",
    "Three benefits are:\n",
    "    [1] Reduces Overfitting\n",
    "    [2] Improves Accuracy\n",
    "    [3] Reduces Training Time\n",
    "   \n",
    "\"\"\""
   ]
  },
  {
   "cell_type": "code",
   "execution_count": 1,
   "metadata": {},
   "outputs": [],
   "source": [
    "# Import python modules\n",
    "from pandas import read_csv\n",
    "from numpy import set_printoptions\n",
    "from sklearn.decomposition import PCA\n",
    "from sklearn.feature_selection import RFE\n",
    "from sklearn.feature_selection import chi2\n",
    "from IPython.display import Markdown, display\n",
    "from sklearn.feature_selection import SelectKBest\n",
    "from sklearn.ensemble import ExtraTreesClassifier\n",
    "from sklearn.linear_model import LogisticRegression"
   ]
  },
  {
   "cell_type": "code",
   "execution_count": 2,
   "metadata": {},
   "outputs": [
    {
     "data": {
      "text/markdown": [
       "<span style='color:blue'>**Checking main python modules version**</span>"
      ],
      "text/plain": [
       "<IPython.core.display.Markdown object>"
      ]
     },
     "metadata": {},
     "output_type": "display_data"
    },
    {
     "name": "stdout",
     "output_type": "stream",
     "text": [
      "scipy: 1.5.4\n",
      "numpy: 1.19.4\n",
      "matplotlib: 3.3.2\n",
      "pandas: 1.1.4\n",
      "statsmodels: 0.12.1\n",
      "sklearn: 0.23.2\n",
      "xgboostn: 1.2.1\n"
     ]
    }
   ],
   "source": [
    "# Additional functions\n",
    "def myPrint(string, c = \"blue\"):    \n",
    "    \"\"\"My version of the python-native print command.\n",
    "    \n",
    "    Print in bold and red tect\n",
    "    \"\"\"\n",
    "    colorstr = \"<span style='color:{}'>{}</span>\".format(c, '**'+ string + '**' )    \n",
    "    display(Markdown(colorstr))\n",
    "\n",
    "def printPythonModuleVersion():    \n",
    "    \"\"\"printPythonModuleVersion\n",
    "    Quickly list the python module versions\n",
    "    \"\"\"\n",
    "    myPrint(\"Checking main python modules version\")\n",
    "    import scipy\n",
    "    print('scipy: %s' % scipy.__version__)\n",
    "    import numpy\n",
    "    print('numpy: %s' % numpy.__version__)    \n",
    "    import matplotlib\n",
    "    print('matplotlib: %s' % matplotlib.__version__)    \n",
    "    import pandas\n",
    "    print('pandas: %s' % pandas.__version__)\n",
    "    import statsmodels\n",
    "    print('statsmodels: %s' % statsmodels.__version__) \n",
    "    import sklearn\n",
    "    print('sklearn: %s' % sklearn.__version__)\n",
    "    import xgboost\n",
    "    print('xgboostn: %s' % xgboost.__version__)    \n",
    "\n",
    "printPythonModuleVersion()"
   ]
  },
  {
   "cell_type": "code",
   "execution_count": 3,
   "metadata": {},
   "outputs": [
    {
     "data": {
      "text/markdown": [
       "<span style='color:blue'>**Checking size of input and labels**</span>"
      ],
      "text/plain": [
       "<IPython.core.display.Markdown object>"
      ]
     },
     "metadata": {},
     "output_type": "display_data"
    },
    {
     "name": "stdout",
     "output_type": "stream",
     "text": [
      "Input's shape:  (768, 8)\n",
      "label's shape:  (768,)\n"
     ]
    },
    {
     "data": {
      "text/markdown": [
       "<span style='color:blue'>**Input names**</span>"
      ],
      "text/plain": [
       "<IPython.core.display.Markdown object>"
      ]
     },
     "metadata": {},
     "output_type": "display_data"
    },
    {
     "name": "stdout",
     "output_type": "stream",
     "text": [
      "Index(['preg', 'plas', 'pres', 'skin', 'test', 'mass', 'pedi', 'age', 'class'], dtype='object')\n"
     ]
    },
    {
     "data": {
      "text/markdown": [
       "<span style='color:blue'>**Print dataframe**</span>"
      ],
      "text/plain": [
       "<IPython.core.display.Markdown object>"
      ]
     },
     "metadata": {},
     "output_type": "display_data"
    },
    {
     "name": "stdout",
     "output_type": "stream",
     "text": [
      "     preg  plas  pres  skin  test  mass   pedi  age  class\n",
      "0       6   148    72    35     0  33.6  0.627   50      1\n",
      "1       1    85    66    29     0  26.6  0.351   31      0\n",
      "2       8   183    64     0     0  23.3  0.672   32      1\n",
      "3       1    89    66    23    94  28.1  0.167   21      0\n",
      "4       0   137    40    35   168  43.1  2.288   33      1\n",
      "..    ...   ...   ...   ...   ...   ...    ...  ...    ...\n",
      "763    10   101    76    48   180  32.9  0.171   63      0\n",
      "764     2   122    70    27     0  36.8  0.340   27      0\n",
      "765     5   121    72    23   112  26.2  0.245   30      0\n",
      "766     1   126    60     0     0  30.1  0.349   47      1\n",
      "767     1    93    70    31     0  30.4  0.315   23      0\n",
      "\n",
      "[768 rows x 9 columns]\n"
     ]
    }
   ],
   "source": [
    "# Read-in the data\n",
    "filename = './datasetCollections/pima-indians-diabetes.csv'\n",
    "names = ['preg', 'plas', 'pres', 'skin', 'test', 'mass', 'pedi', 'age', 'class'] \n",
    "dataframe = read_csv(filename, names=names)\n",
    "array = dataframe.values\n",
    "X = array[:, 0:8]\n",
    "Y = array[:, 8]\n",
    "myPrint(\"Checking size of input and labels\")\n",
    "print(\"Input's shape: \", X.shape)\n",
    "print(\"label's shape: \", Y.shape)\n",
    "myPrint(\"Input names\")\n",
    "print(dataframe.columns)\n",
    "myPrint(\"Print dataframe\")\n",
    "print(dataframe)"
   ]
  },
  {
   "cell_type": "code",
   "execution_count": 24,
   "metadata": {},
   "outputs": [
    {
     "name": "stdout",
     "output_type": "stream",
     "text": [
      "[ 111.52  1411.887   17.605   53.108 2175.565  127.669    5.393  181.304]\n",
      "[[148.    0.   33.6  50. ]\n",
      " [ 85.    0.   26.6  31. ]\n",
      " [183.    0.   23.3  32. ]\n",
      " [ 89.   94.   28.1  21. ]\n",
      " [137.  168.   43.1  33. ]]\n"
     ]
    }
   ],
   "source": [
    "# [1] UNIVARIATE SELECTION\n",
    "\n",
    "\"\"\"\n",
    "Statistical tests can be used to select those features \n",
    "that have the strongest relationship with the output variable. \n",
    "The scikit-learn library provides the SelectKBest class2 \n",
    "that can be used with a suite of different statistical tests\n",
    "to select a specific number of features. The example below uses \n",
    "the chi-squared (chi2) statistical test for non-negative features \n",
    "to select 4 of the best features\n",
    "\"\"\"\n",
    "\n",
    "# feature extraction\n",
    "test = SelectKBest(score_func = chi2, k = 4)\n",
    "fit = test.fit(X, Y)\n",
    "# summarize scores\n",
    "set_printoptions(precision=3)\n",
    "\n",
    "print(fit.scores_)\n",
    "\n",
    "features = fit.transform(X)\n",
    "# summarize selected features\n",
    "print(features[0:5,:])"
   ]
  },
  {
   "cell_type": "code",
   "execution_count": 60,
   "metadata": {},
   "outputs": [
    {
     "data": {
      "text/markdown": [
       "<span style='color:blue'>**No of features selected**</span>"
      ],
      "text/plain": [
       "<IPython.core.display.Markdown object>"
      ]
     },
     "metadata": {},
     "output_type": "display_data"
    },
    {
     "name": "stdout",
     "output_type": "stream",
     "text": [
      "3\n"
     ]
    },
    {
     "data": {
      "text/markdown": [
       "<span style='color:blue'>**Complete map**</span>"
      ],
      "text/plain": [
       "<IPython.core.display.Markdown object>"
      ]
     },
     "metadata": {},
     "output_type": "display_data"
    },
    {
     "name": "stdout",
     "output_type": "stream",
     "text": [
      "Feature:  preg  selected?  True  rank?  1\n",
      "Feature:  plas  selected?  False  rank?  2\n",
      "Feature:  pres  selected?  False  rank?  4\n",
      "Feature:  skin  selected?  False  rank?  6\n",
      "Feature:  test  selected?  False  rank?  5\n",
      "Feature:  mass  selected?  True  rank?  1\n",
      "Feature:  pedi  selected?  True  rank?  1\n",
      "Feature:  age  selected?  False  rank?  3\n"
     ]
    }
   ],
   "source": [
    "# [2] RECURSIVE FEATURE ELIMINATION\n",
    "\n",
    "\"\"\"\n",
    "The Recursive Feature Elimination (or RFE) works by recursively removing\n",
    "attributes and building a model on those attributes that remain.\n",
    "The example below uses RFE with the logistic regression algorithm to \n",
    "select the top 3 features.\n",
    "\"\"\"\n",
    "\n",
    "# Feature extraction\n",
    "model = LogisticRegression(max_iter = 500)\n",
    "rfe = RFE(model, n_features_to_select = 3)\n",
    "fit = rfe.fit(X, Y)\n",
    "\n",
    "myPrint(\"No of features selected\")\n",
    "print(fit.n_features_)\n",
    "myPrint(\"Complete map\")\n",
    "for i in range(8):\n",
    "    print(\"Feature: \", dataframe.columns[i], \" selected? \", fit.support_[i], \" rank? \", fit.ranking_[i])\n"
   ]
  },
  {
   "cell_type": "code",
   "execution_count": 66,
   "metadata": {},
   "outputs": [
    {
     "name": "stdout",
     "output_type": "stream",
     "text": [
      "Explained Variance: %s [0.889 0.062 0.026]\n",
      "[[-2.022e-03  9.781e-02  1.609e-02  6.076e-02  9.931e-01  1.401e-02\n",
      "   5.372e-04 -3.565e-03]\n",
      " [-2.265e-02 -9.722e-01 -1.419e-01  5.786e-02  9.463e-02 -4.697e-02\n",
      "  -8.168e-04 -1.402e-01]\n",
      " [-2.246e-02  1.434e-01 -9.225e-01 -3.070e-01  2.098e-02 -1.324e-01\n",
      "  -6.400e-04 -1.255e-01]]\n",
      "(3, 8)\n",
      "(768, 8)\n"
     ]
    }
   ],
   "source": [
    "# [3] # Feature Extraction with PCA\n",
    "\n",
    "\"\"\"\n",
    "Principal Component Analysis (or PCA) uses linear algebra to transform the \n",
    "dataset into a compressed form. Generally this is called a data reduction\n",
    "technique. A property of PCA is that you can choose the number of dimensions\n",
    "or principal components in the transformed result. In the example below, we \n",
    "use PCA and select 3 principal components.\n",
    "\n",
    "8 :: No of features\n",
    "\"\"\"\n",
    "\n",
    "# feature extraction\n",
    "pca = PCA(n_components = 3)\n",
    "fit = pca.fit(X)\n",
    "# summarize components\n",
    "print(\"Explained Variance: %s\", fit.explained_variance_ratio_)\n",
    "print(fit.components_)\n",
    "print(fit.components_.shape)\n",
    "print(X.shape)"
   ]
  },
  {
   "cell_type": "code",
   "execution_count": 72,
   "metadata": {},
   "outputs": [
    {
     "name": "stdout",
     "output_type": "stream",
     "text": [
      "[0.111 0.239 0.102 0.08  0.072 0.137 0.117 0.141]\n"
     ]
    },
    {
     "data": {
      "text/markdown": [
       "<span style='color:blue'>**Complete map**</span>"
      ],
      "text/plain": [
       "<IPython.core.display.Markdown object>"
      ]
     },
     "metadata": {},
     "output_type": "display_data"
    },
    {
     "name": "stdout",
     "output_type": "stream",
     "text": [
      "Feature: -->> preg <<-- level of importance?  0.1110532119993402\n",
      "Cumulative importance value:  0.1110532119993402\n",
      "Feature: -->> plas <<-- level of importance?  0.23938614723873058\n",
      "Cumulative importance value:  0.3504393592380708\n",
      "Feature: -->> pres <<-- level of importance?  0.10236910037265962\n",
      "Cumulative importance value:  0.4528084596107304\n",
      "Feature: -->> skin <<-- level of importance?  0.07998599838504351\n",
      "Cumulative importance value:  0.532794457995774\n",
      "Feature: -->> test <<-- level of importance?  0.07196102594014515\n",
      "Cumulative importance value:  0.6047554839359192\n",
      "Feature: -->> mass <<-- level of importance?  0.13665768360416575\n",
      "Cumulative importance value:  0.7414131675400849\n",
      "Feature: -->> pedi <<-- level of importance?  0.11720534875446005\n",
      "Cumulative importance value:  0.858618516294545\n",
      "Feature: -->> age <<-- level of importance?  0.14138148370545522\n",
      "Cumulative importance value:  1.0000000000000002\n"
     ]
    }
   ],
   "source": [
    "# [4] # Feature Importance with Extra Trees Classifier\n",
    "\n",
    "\"\"\"\n",
    "Bagged decision trees like Random Forest and Extra Trees \n",
    "can be used to estimate the importance of features.\n",
    "\"\"\"\n",
    "\n",
    "# feature extraction\n",
    "model = ExtraTreesClassifier()\n",
    "model.fit(X, Y)\n",
    "print(model.feature_importances_)\n",
    "\n",
    "myPrint(\"Complete map\")\n",
    "a = 0\n",
    "for i in range(8):\n",
    "    print(\"Feature: -->>\", dataframe.columns[i], \"<<-- level of importance? \", model.feature_importances_[i])\n",
    "    a+=model.feature_importances_[i]\n",
    "    print(\"Cumulative importance value: \", a)\n"
   ]
  },
  {
   "cell_type": "code",
   "execution_count": null,
   "metadata": {},
   "outputs": [],
   "source": []
  }
 ],
 "metadata": {
  "hide_input": false,
  "kernelspec": {
   "display_name": "trainingAI",
   "language": "python",
   "name": "trainingai"
  },
  "language_info": {
   "codemirror_mode": {
    "name": "ipython",
    "version": 3
   },
   "file_extension": ".py",
   "mimetype": "text/x-python",
   "name": "python",
   "nbconvert_exporter": "python",
   "pygments_lexer": "ipython3",
   "version": "3.8.5"
  }
 },
 "nbformat": 4,
 "nbformat_minor": 2
}
